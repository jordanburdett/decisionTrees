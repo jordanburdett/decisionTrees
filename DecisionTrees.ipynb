{
  "nbformat": 4,
  "nbformat_minor": 0,
  "metadata": {
    "colab": {
      "name": "DecisionTrees.ipynb",
      "provenance": [],
      "authorship_tag": "ABX9TyOO3Dwu0CCe5ogFtKEUpAFc",
      "include_colab_link": true
    },
    "kernelspec": {
      "name": "python3",
      "display_name": "Python 3"
    }
  },
  "cells": [
    {
      "cell_type": "markdown",
      "metadata": {
        "id": "view-in-github",
        "colab_type": "text"
      },
      "source": [
        "<a href=\"https://colab.research.google.com/github/jordanburdett/decisionTrees/blob/master/DecisionTrees.ipynb\" target=\"_parent\"><img src=\"https://colab.research.google.com/assets/colab-badge.svg\" alt=\"Open In Colab\"/></a>"
      ]
    },
    {
      "cell_type": "markdown",
      "metadata": {
        "id": "GLZRuAIII88k",
        "colab_type": "text"
      },
      "source": [
        "Decision Tree\n",
        "\n",
        "---\n",
        "\n",
        "First lets learn how to use them with an off the shelf implementation and then we can build one! Yippee!!"
      ]
    },
    {
      "cell_type": "code",
      "metadata": {
        "id": "kR_RP05MI8Ih",
        "colab_type": "code",
        "colab": {}
      },
      "source": [
        "import pandas as pd\n",
        "import numpy as np \n",
        "from sklearn import tree\n",
        "from collections import Counter\n",
        "import graphviz \n",
        "\n",
        "\n",
        "names = [\"price\", \"maint\", \"doors\", \"numPeople\", \"cargoSpace\", \"safteyMeasure\", \"acceptable\"]\n",
        "carData = pd.read_csv(\"https://archive.ics.uci.edu/ml/machine-learning-databases/car/car.data\", header=None, skipinitialspace=True, names=names, na_values=[\"?\"])\n",
        "\n",
        "names = [\"mpg\", \"cylinders\", \"displacement\", \"horsepower\", \"weight\", \"acceleration\", \"model\", \"origin\", \"carname\"]\n",
        "carMPG = pd.read_csv(\"https://archive.ics.uci.edu/ml/machine-learning-databases/auto-mpg/auto-mpg.data\", header=None, names=names, na_values=[\"?\"], sep=\"\\s+\")\n",
        "\n",
        "names = [\"L1\", \"L2\", \"L3\", \"L4\", \"Targets\"]\n",
        "iris = pd.read_csv(\"https://archive.ics.uci.edu/ml/machine-learning-databases/iris/iris.data\", header=None, names=names, na_values=[\"?\"])"
      ],
      "execution_count": 0,
      "outputs": []
    },
    {
      "cell_type": "code",
      "metadata": {
        "id": "f3DLmj5HJny1",
        "colab_type": "code",
        "outputId": "16dc21ca-2b6d-44cf-87af-ee8ed8b6f79c",
        "colab": {
          "base_uri": "https://localhost:8080/",
          "height": 419
        }
      },
      "source": [
        "iris"
      ],
      "execution_count": 0,
      "outputs": [
        {
          "output_type": "execute_result",
          "data": {
            "text/html": [
              "<div>\n",
              "<style scoped>\n",
              "    .dataframe tbody tr th:only-of-type {\n",
              "        vertical-align: middle;\n",
              "    }\n",
              "\n",
              "    .dataframe tbody tr th {\n",
              "        vertical-align: top;\n",
              "    }\n",
              "\n",
              "    .dataframe thead th {\n",
              "        text-align: right;\n",
              "    }\n",
              "</style>\n",
              "<table border=\"1\" class=\"dataframe\">\n",
              "  <thead>\n",
              "    <tr style=\"text-align: right;\">\n",
              "      <th></th>\n",
              "      <th>L1</th>\n",
              "      <th>L2</th>\n",
              "      <th>L3</th>\n",
              "      <th>L4</th>\n",
              "      <th>Targets</th>\n",
              "    </tr>\n",
              "  </thead>\n",
              "  <tbody>\n",
              "    <tr>\n",
              "      <th>0</th>\n",
              "      <td>5.1</td>\n",
              "      <td>3.5</td>\n",
              "      <td>1.4</td>\n",
              "      <td>0.2</td>\n",
              "      <td>Iris-setosa</td>\n",
              "    </tr>\n",
              "    <tr>\n",
              "      <th>1</th>\n",
              "      <td>4.9</td>\n",
              "      <td>3.0</td>\n",
              "      <td>1.4</td>\n",
              "      <td>0.2</td>\n",
              "      <td>Iris-setosa</td>\n",
              "    </tr>\n",
              "    <tr>\n",
              "      <th>2</th>\n",
              "      <td>4.7</td>\n",
              "      <td>3.2</td>\n",
              "      <td>1.3</td>\n",
              "      <td>0.2</td>\n",
              "      <td>Iris-setosa</td>\n",
              "    </tr>\n",
              "    <tr>\n",
              "      <th>3</th>\n",
              "      <td>4.6</td>\n",
              "      <td>3.1</td>\n",
              "      <td>1.5</td>\n",
              "      <td>0.2</td>\n",
              "      <td>Iris-setosa</td>\n",
              "    </tr>\n",
              "    <tr>\n",
              "      <th>4</th>\n",
              "      <td>5.0</td>\n",
              "      <td>3.6</td>\n",
              "      <td>1.4</td>\n",
              "      <td>0.2</td>\n",
              "      <td>Iris-setosa</td>\n",
              "    </tr>\n",
              "    <tr>\n",
              "      <th>...</th>\n",
              "      <td>...</td>\n",
              "      <td>...</td>\n",
              "      <td>...</td>\n",
              "      <td>...</td>\n",
              "      <td>...</td>\n",
              "    </tr>\n",
              "    <tr>\n",
              "      <th>145</th>\n",
              "      <td>6.7</td>\n",
              "      <td>3.0</td>\n",
              "      <td>5.2</td>\n",
              "      <td>2.3</td>\n",
              "      <td>Iris-virginica</td>\n",
              "    </tr>\n",
              "    <tr>\n",
              "      <th>146</th>\n",
              "      <td>6.3</td>\n",
              "      <td>2.5</td>\n",
              "      <td>5.0</td>\n",
              "      <td>1.9</td>\n",
              "      <td>Iris-virginica</td>\n",
              "    </tr>\n",
              "    <tr>\n",
              "      <th>147</th>\n",
              "      <td>6.5</td>\n",
              "      <td>3.0</td>\n",
              "      <td>5.2</td>\n",
              "      <td>2.0</td>\n",
              "      <td>Iris-virginica</td>\n",
              "    </tr>\n",
              "    <tr>\n",
              "      <th>148</th>\n",
              "      <td>6.2</td>\n",
              "      <td>3.4</td>\n",
              "      <td>5.4</td>\n",
              "      <td>2.3</td>\n",
              "      <td>Iris-virginica</td>\n",
              "    </tr>\n",
              "    <tr>\n",
              "      <th>149</th>\n",
              "      <td>5.9</td>\n",
              "      <td>3.0</td>\n",
              "      <td>5.1</td>\n",
              "      <td>1.8</td>\n",
              "      <td>Iris-virginica</td>\n",
              "    </tr>\n",
              "  </tbody>\n",
              "</table>\n",
              "<p>150 rows × 5 columns</p>\n",
              "</div>"
            ],
            "text/plain": [
              "      L1   L2   L3   L4         Targets\n",
              "0    5.1  3.5  1.4  0.2     Iris-setosa\n",
              "1    4.9  3.0  1.4  0.2     Iris-setosa\n",
              "2    4.7  3.2  1.3  0.2     Iris-setosa\n",
              "3    4.6  3.1  1.5  0.2     Iris-setosa\n",
              "4    5.0  3.6  1.4  0.2     Iris-setosa\n",
              "..   ...  ...  ...  ...             ...\n",
              "145  6.7  3.0  5.2  2.3  Iris-virginica\n",
              "146  6.3  2.5  5.0  1.9  Iris-virginica\n",
              "147  6.5  3.0  5.2  2.0  Iris-virginica\n",
              "148  6.2  3.4  5.4  2.3  Iris-virginica\n",
              "149  5.9  3.0  5.1  1.8  Iris-virginica\n",
              "\n",
              "[150 rows x 5 columns]"
            ]
          },
          "metadata": {
            "tags": []
          },
          "execution_count": 196
        }
      ]
    },
    {
      "cell_type": "code",
      "metadata": {
        "id": "-VgnbaNvJo_s",
        "colab_type": "code",
        "outputId": "7172198c-4ff5-48ec-e6f0-5ef657ab5cb5",
        "colab": {
          "base_uri": "https://localhost:8080/",
          "height": 34
        }
      },
      "source": [
        "print(\"hello\")"
      ],
      "execution_count": 0,
      "outputs": [
        {
          "output_type": "stream",
          "text": [
            "hello\n"
          ],
          "name": "stdout"
        }
      ]
    },
    {
      "cell_type": "code",
      "metadata": {
        "id": "gwt_Nri4Z-WZ",
        "colab_type": "code",
        "outputId": "1cb12901-3e02-4e4a-bcfa-a08057203d4e",
        "colab": {
          "base_uri": "https://localhost:8080/",
          "height": 187
        }
      },
      "source": [
        "# Horse power has some NaNs... Im going to take the average and set it for those values that are NaN\n",
        "\n",
        "def replaceNaNAverage(data):\n",
        "  testColumn = data.isna().any()\n",
        "\n",
        "  # Loop through all isNa columns\n",
        "  for columnName, hasNaN in testColumn.items():\n",
        "      if hasNaN:\n",
        "          counts = Counter(data[columnName])\n",
        "          data[columnName] = data[columnName].fillna(counts.most_common(1)[0][0])\n",
        "  return data\n",
        "\n",
        "carMPG = replaceNaNAverage(carMPG)\n",
        "\n",
        "carMPG.isna().any()"
      ],
      "execution_count": 0,
      "outputs": [
        {
          "output_type": "execute_result",
          "data": {
            "text/plain": [
              "mpg             False\n",
              "cylinders       False\n",
              "displacement    False\n",
              "horsepower      False\n",
              "weight          False\n",
              "acceleration    False\n",
              "model           False\n",
              "origin          False\n",
              "carname         False\n",
              "dtype: bool"
            ]
          },
          "metadata": {
            "tags": []
          },
          "execution_count": 198
        }
      ]
    },
    {
      "cell_type": "code",
      "metadata": {
        "id": "FKq5itwsMJQp",
        "colab_type": "code",
        "outputId": "65e1511e-4bf5-405b-fc44-0619dc4de319",
        "colab": {
          "base_uri": "https://localhost:8080/",
          "height": 119
        }
      },
      "source": [
        "iris.isna().any()"
      ],
      "execution_count": 0,
      "outputs": [
        {
          "output_type": "execute_result",
          "data": {
            "text/plain": [
              "L1         False\n",
              "L2         False\n",
              "L3         False\n",
              "L4         False\n",
              "Targets    False\n",
              "dtype: bool"
            ]
          },
          "metadata": {
            "tags": []
          },
          "execution_count": 199
        }
      ]
    },
    {
      "cell_type": "markdown",
      "metadata": {
        "id": "MggsSsJKMRlf",
        "colab_type": "text"
      },
      "source": [
        "All NaN's have been dealt with! Now on to some decision trees!"
      ]
    },
    {
      "cell_type": "code",
      "metadata": {
        "id": "LLBRtnmTM9pO",
        "colab_type": "code",
        "outputId": "046566d3-a068-41ed-b6d4-1674065e68f9",
        "colab": {
          "base_uri": "https://localhost:8080/",
          "height": 204
        }
      },
      "source": [
        "iris.head()\n"
      ],
      "execution_count": 0,
      "outputs": [
        {
          "output_type": "execute_result",
          "data": {
            "text/html": [
              "<div>\n",
              "<style scoped>\n",
              "    .dataframe tbody tr th:only-of-type {\n",
              "        vertical-align: middle;\n",
              "    }\n",
              "\n",
              "    .dataframe tbody tr th {\n",
              "        vertical-align: top;\n",
              "    }\n",
              "\n",
              "    .dataframe thead th {\n",
              "        text-align: right;\n",
              "    }\n",
              "</style>\n",
              "<table border=\"1\" class=\"dataframe\">\n",
              "  <thead>\n",
              "    <tr style=\"text-align: right;\">\n",
              "      <th></th>\n",
              "      <th>L1</th>\n",
              "      <th>L2</th>\n",
              "      <th>L3</th>\n",
              "      <th>L4</th>\n",
              "      <th>Targets</th>\n",
              "    </tr>\n",
              "  </thead>\n",
              "  <tbody>\n",
              "    <tr>\n",
              "      <th>0</th>\n",
              "      <td>5.1</td>\n",
              "      <td>3.5</td>\n",
              "      <td>1.4</td>\n",
              "      <td>0.2</td>\n",
              "      <td>Iris-setosa</td>\n",
              "    </tr>\n",
              "    <tr>\n",
              "      <th>1</th>\n",
              "      <td>4.9</td>\n",
              "      <td>3.0</td>\n",
              "      <td>1.4</td>\n",
              "      <td>0.2</td>\n",
              "      <td>Iris-setosa</td>\n",
              "    </tr>\n",
              "    <tr>\n",
              "      <th>2</th>\n",
              "      <td>4.7</td>\n",
              "      <td>3.2</td>\n",
              "      <td>1.3</td>\n",
              "      <td>0.2</td>\n",
              "      <td>Iris-setosa</td>\n",
              "    </tr>\n",
              "    <tr>\n",
              "      <th>3</th>\n",
              "      <td>4.6</td>\n",
              "      <td>3.1</td>\n",
              "      <td>1.5</td>\n",
              "      <td>0.2</td>\n",
              "      <td>Iris-setosa</td>\n",
              "    </tr>\n",
              "    <tr>\n",
              "      <th>4</th>\n",
              "      <td>5.0</td>\n",
              "      <td>3.6</td>\n",
              "      <td>1.4</td>\n",
              "      <td>0.2</td>\n",
              "      <td>Iris-setosa</td>\n",
              "    </tr>\n",
              "  </tbody>\n",
              "</table>\n",
              "</div>"
            ],
            "text/plain": [
              "    L1   L2   L3   L4      Targets\n",
              "0  5.1  3.5  1.4  0.2  Iris-setosa\n",
              "1  4.9  3.0  1.4  0.2  Iris-setosa\n",
              "2  4.7  3.2  1.3  0.2  Iris-setosa\n",
              "3  4.6  3.1  1.5  0.2  Iris-setosa\n",
              "4  5.0  3.6  1.4  0.2  Iris-setosa"
            ]
          },
          "metadata": {
            "tags": []
          },
          "execution_count": 200
        }
      ]
    },
    {
      "cell_type": "code",
      "metadata": {
        "id": "-s8meiSbN8Hf",
        "colab_type": "code",
        "colab": {}
      },
      "source": [
        "features = iris[['L1', 'L2', 'L3', 'L4']].to_numpy()\n",
        "targets = iris['Targets'].to_numpy()\n",
        "\n",
        "from sklearn.model_selection import train_test_split\n",
        "\n",
        "train_data, test_data, train_targets, test_targets = train_test_split(features, targets, test_size=.3)"
      ],
      "execution_count": 0,
      "outputs": []
    },
    {
      "cell_type": "code",
      "metadata": {
        "id": "kVa9YHUtOI-t",
        "colab_type": "code",
        "outputId": "fc67d646-746d-4a1c-96cb-11895f64f9fb",
        "colab": {
          "base_uri": "https://localhost:8080/",
          "height": 119
        }
      },
      "source": [
        "irisTree = tree.DecisionTreeClassifier(max_depth=4)\n",
        "irisTree.fit(train_data, train_targets)"
      ],
      "execution_count": 0,
      "outputs": [
        {
          "output_type": "execute_result",
          "data": {
            "text/plain": [
              "DecisionTreeClassifier(ccp_alpha=0.0, class_weight=None, criterion='gini',\n",
              "                       max_depth=4, max_features=None, max_leaf_nodes=None,\n",
              "                       min_impurity_decrease=0.0, min_impurity_split=None,\n",
              "                       min_samples_leaf=1, min_samples_split=2,\n",
              "                       min_weight_fraction_leaf=0.0, presort='deprecated',\n",
              "                       random_state=None, splitter='best')"
            ]
          },
          "metadata": {
            "tags": []
          },
          "execution_count": 202
        }
      ]
    },
    {
      "cell_type": "code",
      "metadata": {
        "id": "oixfcFf4OuJB",
        "colab_type": "code",
        "outputId": "cba9c0fb-ec67-4425-bce5-7e5b5f679da8",
        "colab": {
          "base_uri": "https://localhost:8080/",
          "height": 285
        }
      },
      "source": [
        "print(tree.plot_tree(irisTree))"
      ],
      "execution_count": 0,
      "outputs": [
        {
          "output_type": "stream",
          "text": [
            "[Text(125.55000000000001, 195.696, 'X[3] <= 0.7\\ngini = 0.665\\nsamples = 105\\nvalue = [34, 33, 38]'), Text(83.7, 152.208, 'gini = 0.0\\nsamples = 34\\nvalue = [34, 0, 0]'), Text(167.4, 152.208, 'X[2] <= 4.75\\ngini = 0.498\\nsamples = 71\\nvalue = [0, 33, 38]'), Text(83.7, 108.72, 'X[3] <= 1.65\\ngini = 0.061\\nsamples = 32\\nvalue = [0, 31, 1]'), Text(41.85, 65.232, 'gini = 0.0\\nsamples = 31\\nvalue = [0, 31, 0]'), Text(125.55000000000001, 65.232, 'gini = 0.0\\nsamples = 1\\nvalue = [0, 0, 1]'), Text(251.10000000000002, 108.72, 'X[2] <= 5.05\\ngini = 0.097\\nsamples = 39\\nvalue = [0, 2, 37]'), Text(209.25, 65.232, 'X[1] <= 3.1\\ngini = 0.346\\nsamples = 9\\nvalue = [0, 2, 7]'), Text(167.4, 21.744, 'gini = 0.219\\nsamples = 8\\nvalue = [0, 1, 7]'), Text(251.10000000000002, 21.744, 'gini = 0.0\\nsamples = 1\\nvalue = [0, 1, 0]'), Text(292.95, 65.232, 'gini = 0.0\\nsamples = 30\\nvalue = [0, 0, 30]')]\n"
          ],
          "name": "stdout"
        },
        {
          "output_type": "display_data",
          "data": {
            "image/png": "[encoded data removed]",
            "text/plain": [
              "<Figure size 432x288 with 1 Axes>"
            ]
          },
          "metadata": {
            "tags": [],
            "needs_background": "light"
          }
        }
      ]
    },
    {
      "cell_type": "code",
      "metadata": {
        "id": "sTMRXTVkQFs7",
        "colab_type": "code",
        "colab": {}
      },
      "source": [
        "predictions = irisTree.predict(test_data)"
      ],
      "execution_count": 0,
      "outputs": []
    },
    {
      "cell_type": "code",
      "metadata": {
        "id": "fYhJhHQuRIvE",
        "colab_type": "code",
        "outputId": "8188e81e-caa8-4ece-8ffe-fe5899410a90",
        "colab": {
          "base_uri": "https://localhost:8080/",
          "height": 34
        }
      },
      "source": [
        "numCorrect = 0\n",
        "\n",
        "for i in range(len(predictions)):\n",
        "  if predictions[i] == test_targets[i]:\n",
        "    numCorrect += 1\n",
        "\n",
        "accuracy = (numCorrect / len(predictions)) * 100\n",
        "\n",
        "print(accuracy)"
      ],
      "execution_count": 0,
      "outputs": [
        {
          "output_type": "stream",
          "text": [
            "91.11111111111111\n"
          ],
          "name": "stdout"
        }
      ]
    },
    {
      "cell_type": "markdown",
      "metadata": {
        "id": "cN_hiY2sRhQ4",
        "colab_type": "text"
      },
      "source": [
        "Looks like I got the same score as my Knn Classifier! So that good! 97.777 Percent is pretty darn good! Haha I reRan everything and got 100 Percent Accuracy! Ohhh yaaa. Take that Knn classifier! Also found a cooler way to display the tree making it way easier to visualize the decision tree!"
      ]
    },
    {
      "cell_type": "code",
      "metadata": {
        "id": "R63tOH_zSBZx",
        "colab_type": "code",
        "outputId": "0055f66b-c3f2-4472-af03-dafe3df7dba7",
        "colab": {
          "base_uri": "https://localhost:8080/",
          "height": 657
        }
      },
      "source": [
        "dot_data = tree.export_graphviz(irisTree)  \n",
        "graph = graphviz.Source(dot_data)  \n",
        "graph "
      ],
      "execution_count": 0,
      "outputs": [
        {
          "output_type": "execute_result",
          "data": {
            "text/plain": [
              "<graphviz.files.Source at 0x7fde8f82efd0>"
            ],
            "image/svg+xml": "<?xml version=\"1.0\" encoding=\"UTF-8\" standalone=\"no\"?>\n<!DOCTYPE svg PUBLIC \"-//W3C//DTD SVG 1.1//EN\"\n \"http://www.w3.org/Graphics/SVG/1.1/DTD/svg11.dtd\">\n<!-- Generated by graphviz version 2.40.1 (20161225.0304)\n -->\n<!-- Title: Tree Pages: 1 -->\n<svg width=\"520pt\" height=\"477pt\"\n viewBox=\"0.00 0.00 520.00 477.00\" xmlns=\"http://www.w3.org/2000/svg\" xmlns:xlink=\"http://www.w3.org/1999/xlink\">\n<g id=\"graph0\" class=\"graph\" transform=\"scale(1 1) rotate(0) translate(4 473)\">\n<title>Tree</title>\n<polygon fill=\"#ffffff\" stroke=\"transparent\" points=\"-4,4 -4,-473 516,-473 516,4 -4,4\"/>\n<!-- 0 -->\n<g id=\"node1\" class=\"node\">\n<title>0</title>\n<polygon fill=\"none\" stroke=\"#000000\" points=\"252.5,-469 120.5,-469 120.5,-401 252.5,-401 252.5,-469\"/>\n<text text-anchor=\"middle\" x=\"186.5\" y=\"-453.8\" font-family=\"Times,serif\" font-size=\"14.00\" fill=\"#000000\">X[3] &lt;= 0.7</text>\n<text text-anchor=\"middle\" x=\"186.5\" y=\"-438.8\" font-family=\"Times,serif\" font-size=\"14.00\" fill=\"#000000\">gini = 0.665</text>\n<text text-anchor=\"middle\" x=\"186.5\" y=\"-423.8\" font-family=\"Times,serif\" font-size=\"14.00\" fill=\"#000000\">samples = 105</text>\n<text text-anchor=\"middle\" x=\"186.5\" y=\"-408.8\" font-family=\"Times,serif\" font-size=\"14.00\" fill=\"#000000\">value = [34, 33, 38]</text>\n</g>\n<!-- 1 -->\n<g id=\"node2\" class=\"node\">\n<title>1</title>\n<polygon fill=\"none\" stroke=\"#000000\" points=\"176,-357.5 59,-357.5 59,-304.5 176,-304.5 176,-357.5\"/>\n<text text-anchor=\"middle\" x=\"117.5\" y=\"-342.3\" font-family=\"Times,serif\" font-size=\"14.00\" fill=\"#000000\">gini = 0.0</text>\n<text text-anchor=\"middle\" x=\"117.5\" y=\"-327.3\" font-family=\"Times,serif\" font-size=\"14.00\" fill=\"#000000\">samples = 34</text>\n<text text-anchor=\"middle\" x=\"117.5\" y=\"-312.3\" font-family=\"Times,serif\" font-size=\"14.00\" fill=\"#000000\">value = [34, 0, 0]</text>\n</g>\n<!-- 0&#45;&gt;1 -->\n<g id=\"edge1\" class=\"edge\">\n<title>0&#45;&gt;1</title>\n<path fill=\"none\" stroke=\"#000000\" d=\"M163.9068,-400.9465C156.4527,-389.7113 148.1533,-377.2021 140.6577,-365.9043\"/>\n<polygon fill=\"#000000\" stroke=\"#000000\" points=\"143.5547,-363.94 135.1097,-357.5422 137.7218,-367.81 143.5547,-363.94\"/>\n<text text-anchor=\"middle\" x=\"130.1523\" y=\"-378.3457\" font-family=\"Times,serif\" font-size=\"14.00\" fill=\"#000000\">True</text>\n</g>\n<!-- 2 -->\n<g id=\"node3\" class=\"node\">\n<title>2</title>\n<polygon fill=\"none\" stroke=\"#000000\" points=\"319,-365 194,-365 194,-297 319,-297 319,-365\"/>\n<text text-anchor=\"middle\" x=\"256.5\" y=\"-349.8\" font-family=\"Times,serif\" font-size=\"14.00\" fill=\"#000000\">X[2] &lt;= 4.75</text>\n<text text-anchor=\"middle\" x=\"256.5\" y=\"-334.8\" font-family=\"Times,serif\" font-size=\"14.00\" fill=\"#000000\">gini = 0.498</text>\n<text text-anchor=\"middle\" x=\"256.5\" y=\"-319.8\" font-family=\"Times,serif\" font-size=\"14.00\" fill=\"#000000\">samples = 71</text>\n<text text-anchor=\"middle\" x=\"256.5\" y=\"-304.8\" font-family=\"Times,serif\" font-size=\"14.00\" fill=\"#000000\">value = [0, 33, 38]</text>\n</g>\n<!-- 0&#45;&gt;2 -->\n<g id=\"edge2\" class=\"edge\">\n<title>0&#45;&gt;2</title>\n<path fill=\"none\" stroke=\"#000000\" d=\"M209.4206,-400.9465C215.2826,-392.2373 221.6598,-382.7626 227.773,-373.6801\"/>\n<polygon fill=\"#000000\" stroke=\"#000000\" points=\"230.8476,-375.3802 233.5279,-365.13 225.0405,-371.4716 230.8476,-375.3802\"/>\n<text text-anchor=\"middle\" x=\"238.3223\" y=\"-385.966\" font-family=\"Times,serif\" font-size=\"14.00\" fill=\"#000000\">False</text>\n</g>\n<!-- 3 -->\n<g id=\"node4\" class=\"node\">\n<title>3</title>\n<polygon fill=\"none\" stroke=\"#000000\" points=\"247,-261 130,-261 130,-193 247,-193 247,-261\"/>\n<text text-anchor=\"middle\" x=\"188.5\" y=\"-245.8\" font-family=\"Times,serif\" font-size=\"14.00\" fill=\"#000000\">X[3] &lt;= 1.65</text>\n<text text-anchor=\"middle\" x=\"188.5\" y=\"-230.8\" font-family=\"Times,serif\" font-size=\"14.00\" fill=\"#000000\">gini = 0.061</text>\n<text text-anchor=\"middle\" x=\"188.5\" y=\"-215.8\" font-family=\"Times,serif\" font-size=\"14.00\" fill=\"#000000\">samples = 32</text>\n<text text-anchor=\"middle\" x=\"188.5\" y=\"-200.8\" font-family=\"Times,serif\" font-size=\"14.00\" fill=\"#000000\">value = [0, 31, 1]</text>\n</g>\n<!-- 2&#45;&gt;3 -->\n<g id=\"edge3\" class=\"edge\">\n<title>2&#45;&gt;3</title>\n<path fill=\"none\" stroke=\"#000000\" d=\"M234.2343,-296.9465C228.5398,-288.2373 222.3448,-278.7626 216.4062,-269.6801\"/>\n<polygon fill=\"#000000\" stroke=\"#000000\" points=\"219.2177,-267.5843 210.8158,-261.13 213.3589,-271.4151 219.2177,-267.5843\"/>\n</g>\n<!-- 6 -->\n<g id=\"node7\" class=\"node\">\n<title>6</title>\n<polygon fill=\"none\" stroke=\"#000000\" points=\"382,-261 265,-261 265,-193 382,-193 382,-261\"/>\n<text text-anchor=\"middle\" x=\"323.5\" y=\"-245.8\" font-family=\"Times,serif\" font-size=\"14.00\" fill=\"#000000\">X[2] &lt;= 5.05</text>\n<text text-anchor=\"middle\" x=\"323.5\" y=\"-230.8\" font-family=\"Times,serif\" font-size=\"14.00\" fill=\"#000000\">gini = 0.097</text>\n<text text-anchor=\"middle\" x=\"323.5\" y=\"-215.8\" font-family=\"Times,serif\" font-size=\"14.00\" fill=\"#000000\">samples = 39</text>\n<text text-anchor=\"middle\" x=\"323.5\" y=\"-200.8\" font-family=\"Times,serif\" font-size=\"14.00\" fill=\"#000000\">value = [0, 2, 37]</text>\n</g>\n<!-- 2&#45;&gt;6 -->\n<g id=\"edge6\" class=\"edge\">\n<title>2&#45;&gt;6</title>\n<path fill=\"none\" stroke=\"#000000\" d=\"M278.4383,-296.9465C284.049,-288.2373 290.1529,-278.7626 296.0042,-269.6801\"/>\n<polygon fill=\"#000000\" stroke=\"#000000\" points=\"299.0389,-271.4321 301.5124,-261.13 293.1543,-267.641 299.0389,-271.4321\"/>\n</g>\n<!-- 4 -->\n<g id=\"node5\" class=\"node\">\n<title>4</title>\n<polygon fill=\"none\" stroke=\"#000000\" points=\"117,-149.5 0,-149.5 0,-96.5 117,-96.5 117,-149.5\"/>\n<text text-anchor=\"middle\" x=\"58.5\" y=\"-134.3\" font-family=\"Times,serif\" font-size=\"14.00\" fill=\"#000000\">gini = 0.0</text>\n<text text-anchor=\"middle\" x=\"58.5\" y=\"-119.3\" font-family=\"Times,serif\" font-size=\"14.00\" fill=\"#000000\">samples = 31</text>\n<text text-anchor=\"middle\" x=\"58.5\" y=\"-104.3\" font-family=\"Times,serif\" font-size=\"14.00\" fill=\"#000000\">value = [0, 31, 0]</text>\n</g>\n<!-- 3&#45;&gt;4 -->\n<g id=\"edge4\" class=\"edge\">\n<title>3&#45;&gt;4</title>\n<path fill=\"none\" stroke=\"#000000\" d=\"M145.9331,-192.9465C131.063,-181.0504 114.4075,-167.726 99.6546,-155.9237\"/>\n<polygon fill=\"#000000\" stroke=\"#000000\" points=\"101.6729,-153.0561 91.6777,-149.5422 97.3,-158.5222 101.6729,-153.0561\"/>\n</g>\n<!-- 5 -->\n<g id=\"node6\" class=\"node\">\n<title>5</title>\n<polygon fill=\"none\" stroke=\"#000000\" points=\"245.5,-149.5 135.5,-149.5 135.5,-96.5 245.5,-96.5 245.5,-149.5\"/>\n<text text-anchor=\"middle\" x=\"190.5\" y=\"-134.3\" font-family=\"Times,serif\" font-size=\"14.00\" fill=\"#000000\">gini = 0.0</text>\n<text text-anchor=\"middle\" x=\"190.5\" y=\"-119.3\" font-family=\"Times,serif\" font-size=\"14.00\" fill=\"#000000\">samples = 1</text>\n<text text-anchor=\"middle\" x=\"190.5\" y=\"-104.3\" font-family=\"Times,serif\" font-size=\"14.00\" fill=\"#000000\">value = [0, 0, 1]</text>\n</g>\n<!-- 3&#45;&gt;5 -->\n<g id=\"edge5\" class=\"edge\">\n<title>3&#45;&gt;5</title>\n<path fill=\"none\" stroke=\"#000000\" d=\"M189.1549,-192.9465C189.3603,-182.2621 189.588,-170.4254 189.7966,-159.5742\"/>\n<polygon fill=\"#000000\" stroke=\"#000000\" points=\"193.2966,-159.6076 189.9896,-149.5422 186.2979,-159.473 193.2966,-159.6076\"/>\n</g>\n<!-- 7 -->\n<g id=\"node8\" class=\"node\">\n<title>7</title>\n<polygon fill=\"none\" stroke=\"#000000\" points=\"376.5,-157 266.5,-157 266.5,-89 376.5,-89 376.5,-157\"/>\n<text text-anchor=\"middle\" x=\"321.5\" y=\"-141.8\" font-family=\"Times,serif\" font-size=\"14.00\" fill=\"#000000\">X[1] &lt;= 3.1</text>\n<text text-anchor=\"middle\" x=\"321.5\" y=\"-126.8\" font-family=\"Times,serif\" font-size=\"14.00\" fill=\"#000000\">gini = 0.346</text>\n<text text-anchor=\"middle\" x=\"321.5\" y=\"-111.8\" font-family=\"Times,serif\" font-size=\"14.00\" fill=\"#000000\">samples = 9</text>\n<text text-anchor=\"middle\" x=\"321.5\" y=\"-96.8\" font-family=\"Times,serif\" font-size=\"14.00\" fill=\"#000000\">value = [0, 2, 7]</text>\n</g>\n<!-- 6&#45;&gt;7 -->\n<g id=\"edge7\" class=\"edge\">\n<title>6&#45;&gt;7</title>\n<path fill=\"none\" stroke=\"#000000\" d=\"M322.8451,-192.9465C322.688,-184.776 322.5179,-175.9318 322.3533,-167.3697\"/>\n<polygon fill=\"#000000\" stroke=\"#000000\" points=\"325.8481,-167.0608 322.1563,-157.13 318.8494,-167.1955 325.8481,-167.0608\"/>\n</g>\n<!-- 10 -->\n<g id=\"node11\" class=\"node\">\n<title>10</title>\n<polygon fill=\"none\" stroke=\"#000000\" points=\"512,-149.5 395,-149.5 395,-96.5 512,-96.5 512,-149.5\"/>\n<text text-anchor=\"middle\" x=\"453.5\" y=\"-134.3\" font-family=\"Times,serif\" font-size=\"14.00\" fill=\"#000000\">gini = 0.0</text>\n<text text-anchor=\"middle\" x=\"453.5\" y=\"-119.3\" font-family=\"Times,serif\" font-size=\"14.00\" fill=\"#000000\">samples = 30</text>\n<text text-anchor=\"middle\" x=\"453.5\" y=\"-104.3\" font-family=\"Times,serif\" font-size=\"14.00\" fill=\"#000000\">value = [0, 0, 30]</text>\n</g>\n<!-- 6&#45;&gt;10 -->\n<g id=\"edge10\" class=\"edge\">\n<title>6&#45;&gt;10</title>\n<path fill=\"none\" stroke=\"#000000\" d=\"M366.0669,-192.9465C380.937,-181.0504 397.5925,-167.726 412.3454,-155.9237\"/>\n<polygon fill=\"#000000\" stroke=\"#000000\" points=\"414.7,-158.5222 420.3223,-149.5422 410.3271,-153.0561 414.7,-158.5222\"/>\n</g>\n<!-- 8 -->\n<g id=\"node9\" class=\"node\">\n<title>8</title>\n<polygon fill=\"none\" stroke=\"#000000\" points=\"312.5,-53 202.5,-53 202.5,0 312.5,0 312.5,-53\"/>\n<text text-anchor=\"middle\" x=\"257.5\" y=\"-37.8\" font-family=\"Times,serif\" font-size=\"14.00\" fill=\"#000000\">gini = 0.219</text>\n<text text-anchor=\"middle\" x=\"257.5\" y=\"-22.8\" font-family=\"Times,serif\" font-size=\"14.00\" fill=\"#000000\">samples = 8</text>\n<text text-anchor=\"middle\" x=\"257.5\" y=\"-7.8\" font-family=\"Times,serif\" font-size=\"14.00\" fill=\"#000000\">value = [0, 1, 7]</text>\n</g>\n<!-- 7&#45;&gt;8 -->\n<g id=\"edge8\" class=\"edge\">\n<title>7&#45;&gt;8</title>\n<path fill=\"none\" stroke=\"#000000\" d=\"M298.936,-88.9777C293.1059,-80.187 286.8169,-70.7044 280.943,-61.8477\"/>\n<polygon fill=\"#000000\" stroke=\"#000000\" points=\"283.6838,-59.6478 275.2399,-53.2485 277.8502,-63.5167 283.6838,-59.6478\"/>\n</g>\n<!-- 9 -->\n<g id=\"node10\" class=\"node\">\n<title>9</title>\n<polygon fill=\"none\" stroke=\"#000000\" points=\"440.5,-53 330.5,-53 330.5,0 440.5,0 440.5,-53\"/>\n<text text-anchor=\"middle\" x=\"385.5\" y=\"-37.8\" font-family=\"Times,serif\" font-size=\"14.00\" fill=\"#000000\">gini = 0.0</text>\n<text text-anchor=\"middle\" x=\"385.5\" y=\"-22.8\" font-family=\"Times,serif\" font-size=\"14.00\" fill=\"#000000\">samples = 1</text>\n<text text-anchor=\"middle\" x=\"385.5\" y=\"-7.8\" font-family=\"Times,serif\" font-size=\"14.00\" fill=\"#000000\">value = [0, 1, 0]</text>\n</g>\n<!-- 7&#45;&gt;9 -->\n<g id=\"edge9\" class=\"edge\">\n<title>7&#45;&gt;9</title>\n<path fill=\"none\" stroke=\"#000000\" d=\"M344.064,-88.9777C349.8941,-80.187 356.1831,-70.7044 362.057,-61.8477\"/>\n<polygon fill=\"#000000\" stroke=\"#000000\" points=\"365.1498,-63.5167 367.7601,-53.2485 359.3162,-59.6478 365.1498,-63.5167\"/>\n</g>\n</g>\n</svg>\n"
          },
          "metadata": {
            "tags": []
          },
          "execution_count": 206
        }
      ]
    },
    {
      "cell_type": "markdown",
      "metadata": {
        "id": "8wo_X8YaTZRq",
        "colab_type": "text"
      },
      "source": [
        "Cool! Moving on to car MPG!"
      ]
    },
    {
      "cell_type": "code",
      "metadata": {
        "id": "sTaYl4BGSHf_",
        "colab_type": "code",
        "outputId": "a4f212da-c98a-4915-d2b5-19cd6def8f69",
        "colab": {
          "base_uri": "https://localhost:8080/",
          "height": 204
        }
      },
      "source": [
        "carMPG.head()"
      ],
      "execution_count": 0,
      "outputs": [
        {
          "output_type": "execute_result",
          "data": {
            "text/html": [
              "<div>\n",
              "<style scoped>\n",
              "    .dataframe tbody tr th:only-of-type {\n",
              "        vertical-align: middle;\n",
              "    }\n",
              "\n",
              "    .dataframe tbody tr th {\n",
              "        vertical-align: top;\n",
              "    }\n",
              "\n",
              "    .dataframe thead th {\n",
              "        text-align: right;\n",
              "    }\n",
              "</style>\n",
              "<table border=\"1\" class=\"dataframe\">\n",
              "  <thead>\n",
              "    <tr style=\"text-align: right;\">\n",
              "      <th></th>\n",
              "      <th>mpg</th>\n",
              "      <th>cylinders</th>\n",
              "      <th>displacement</th>\n",
              "      <th>horsepower</th>\n",
              "      <th>weight</th>\n",
              "      <th>acceleration</th>\n",
              "      <th>model</th>\n",
              "      <th>origin</th>\n",
              "      <th>carname</th>\n",
              "    </tr>\n",
              "  </thead>\n",
              "  <tbody>\n",
              "    <tr>\n",
              "      <th>0</th>\n",
              "      <td>18.0</td>\n",
              "      <td>8</td>\n",
              "      <td>307.0</td>\n",
              "      <td>130.0</td>\n",
              "      <td>3504.0</td>\n",
              "      <td>12.0</td>\n",
              "      <td>70</td>\n",
              "      <td>1</td>\n",
              "      <td>chevrolet chevelle malibu</td>\n",
              "    </tr>\n",
              "    <tr>\n",
              "      <th>1</th>\n",
              "      <td>15.0</td>\n",
              "      <td>8</td>\n",
              "      <td>350.0</td>\n",
              "      <td>165.0</td>\n",
              "      <td>3693.0</td>\n",
              "      <td>11.5</td>\n",
              "      <td>70</td>\n",
              "      <td>1</td>\n",
              "      <td>buick skylark 320</td>\n",
              "    </tr>\n",
              "    <tr>\n",
              "      <th>2</th>\n",
              "      <td>18.0</td>\n",
              "      <td>8</td>\n",
              "      <td>318.0</td>\n",
              "      <td>150.0</td>\n",
              "      <td>3436.0</td>\n",
              "      <td>11.0</td>\n",
              "      <td>70</td>\n",
              "      <td>1</td>\n",
              "      <td>plymouth satellite</td>\n",
              "    </tr>\n",
              "    <tr>\n",
              "      <th>3</th>\n",
              "      <td>16.0</td>\n",
              "      <td>8</td>\n",
              "      <td>304.0</td>\n",
              "      <td>150.0</td>\n",
              "      <td>3433.0</td>\n",
              "      <td>12.0</td>\n",
              "      <td>70</td>\n",
              "      <td>1</td>\n",
              "      <td>amc rebel sst</td>\n",
              "    </tr>\n",
              "    <tr>\n",
              "      <th>4</th>\n",
              "      <td>17.0</td>\n",
              "      <td>8</td>\n",
              "      <td>302.0</td>\n",
              "      <td>140.0</td>\n",
              "      <td>3449.0</td>\n",
              "      <td>10.5</td>\n",
              "      <td>70</td>\n",
              "      <td>1</td>\n",
              "      <td>ford torino</td>\n",
              "    </tr>\n",
              "  </tbody>\n",
              "</table>\n",
              "</div>"
            ],
            "text/plain": [
              "    mpg  cylinders  displacement  ...  model  origin                    carname\n",
              "0  18.0          8         307.0  ...     70       1  chevrolet chevelle malibu\n",
              "1  15.0          8         350.0  ...     70       1          buick skylark 320\n",
              "2  18.0          8         318.0  ...     70       1         plymouth satellite\n",
              "3  16.0          8         304.0  ...     70       1              amc rebel sst\n",
              "4  17.0          8         302.0  ...     70       1                ford torino\n",
              "\n",
              "[5 rows x 9 columns]"
            ]
          },
          "metadata": {
            "tags": []
          },
          "execution_count": 207
        }
      ]
    },
    {
      "cell_type": "code",
      "metadata": {
        "id": "cG53QbPZTeyr",
        "colab_type": "code",
        "colab": {}
      },
      "source": [
        "features = carMPG[['cylinders', 'displacement', 'horsepower', 'weight', 'acceleration', 'model', 'origin']]\n",
        "targets = carMPG['mpg']\n",
        "\n",
        "train_data, test_data, train_targets, test_targets = train_test_split(features, targets, test_size=.3)\n"
      ],
      "execution_count": 0,
      "outputs": []
    },
    {
      "cell_type": "code",
      "metadata": {
        "id": "MANjYYqST8Ab",
        "colab_type": "code",
        "outputId": "64aa0f43-dcb2-4769-a502-160c5f71a66e",
        "colab": {
          "base_uri": "https://localhost:8080/",
          "height": 34
        }
      },
      "source": [
        "MPGTree = tree.DecisionTreeRegressor()\n",
        "MPGTree.fit(train_data, train_targets)\n",
        "\n",
        "dot_data = tree.export_graphviz(MPGTree, feature_names=features.columns, class_names=[\"MPG\"])  \n",
        "graph = graphviz.Source(dot_data)  \n",
        "graph.save(\"bigTreeCarData.jpg\")"
      ],
      "execution_count": 0,
      "outputs": [
        {
          "output_type": "execute_result",
          "data": {
            "text/plain": [
              "'bigTreeCarData.jpg'"
            ]
          },
          "metadata": {
            "tags": []
          },
          "execution_count": 209
        }
      ]
    },
    {
      "cell_type": "code",
      "metadata": {
        "id": "XN2RjxqCUPzK",
        "colab_type": "code",
        "colab": {}
      },
      "source": [
        "## Wow... Thats massive! Sweet! I wonder if it works? Spoiler it didn't This was overfitted way way way bad.\n",
        "\n",
        "predictions = MPGTree.predict(test_data)"
      ],
      "execution_count": 0,
      "outputs": []
    },
    {
      "cell_type": "markdown",
      "metadata": {
        "id": "gu7eOMV7Egjm",
        "colab_type": "text"
      },
      "source": [
        "# New Section"
      ]
    },
    {
      "cell_type": "code",
      "metadata": {
        "id": "XeTtuEzxXDna",
        "colab_type": "code",
        "outputId": "d7d46c4f-6750-47b5-8836-77762675aabb",
        "colab": {
          "base_uri": "https://localhost:8080/",
          "height": 221
        }
      },
      "source": [
        "import sklearn.metrics as sk\n",
        "\n",
        "# variance score\n",
        "print(\"Variance Score\")\n",
        "print(sk.explained_variance_score(test_targets, predictions))\n",
        "\n",
        "# max error\n",
        "from sklearn.metrics import max_error\n",
        "print(\"max error\")\n",
        "print(max_error(test_targets, predictions))\n",
        "\n",
        "# mean absolute error\n",
        "from sklearn.metrics import mean_absolute_error\n",
        "print(\"mean absolute error\")\n",
        "print(mean_absolute_error(test_targets, predictions))\n",
        "\n",
        "# Mean squared error\n",
        "from sklearn.metrics import mean_squared_error\n",
        "print(\"mean squared error\")\n",
        "print(mean_squared_error(test_targets, predictions))\n",
        "\n",
        "\n",
        "# Mean squared log error\n",
        "print (\"mean squared log error\")\n",
        "print(sk.mean_squared_log_error(test_targets, predictions))\n",
        "\n",
        "# r2 score\n",
        "print (\"r2 score\")\n",
        "print (sk.r2_score(test_targets, predictions))"
      ],
      "execution_count": 0,
      "outputs": [
        {
          "output_type": "stream",
          "text": [
            "Variance Score\n",
            "0.8460864519748723\n",
            "max error\n",
            "18.6\n",
            "mean absolute error\n",
            "2.1333333333333333\n",
            "mean squared error\n",
            "9.193000000000001\n",
            "mean squared log error\n",
            "0.016607427904672293\n",
            "r2 score\n",
            "0.8458647137871027\n"
          ],
          "name": "stdout"
        }
      ]
    },
    {
      "cell_type": "markdown",
      "metadata": {
        "id": "lVuu_RWOPRAC",
        "colab_type": "text"
      },
      "source": [
        "after during a tone of testing and following a couple of articles on how to get the best results from the decision tree this is about the best I could get. putting a min sample leaf count of around 4 and a max depth of around 8 was the sweet spot. Any more than that and the dataset started to over fit and would end up getting worse results.\n",
        "\n",
        "---\n",
        "\n",
        "Next data set will be testing if a car is acceptable or not. This is a classification test again. The difference here is that there is a mix between numeric data classification data. The only thing I will need to do extra is change the data to be all numeric. I will also be testing the differences between normalizing the data and not normalizing the data."
      ]
    },
    {
      "cell_type": "code",
      "metadata": {
        "id": "weRtTFVxSAwQ",
        "colab_type": "code",
        "colab": {}
      },
      "source": [
        "## Couple of functions I will need made from other assignments\n",
        "def normalizeData(data):\n",
        "  return (data - data.mean()) / (data.max() - data.min())\n",
        "\n",
        "def makeCatCodes(data):\n",
        "  for label,dtype in data.dtypes.items():\n",
        "    if dtype == object:\n",
        "        print(label)\n",
        "        # set the dataframe to be a category\n",
        "        data[label] = data[label].astype('category')\n",
        "\n",
        "        # create new row using cat codes\n",
        "        data[\"{}_cat\".format(label)] = data[label].cat.codes\n",
        "        \n",
        "  return data"
      ],
      "execution_count": 0,
      "outputs": []
    },
    {
      "cell_type": "code",
      "metadata": {
        "id": "yToKLHi0SRMP",
        "colab_type": "code",
        "outputId": "2894242d-8c36-461b-d3c6-c94bdcc012b9",
        "colab": {
          "base_uri": "https://localhost:8080/",
          "height": 323
        }
      },
      "source": [
        "carData = makeCatCodes(carData)\n",
        "carData.head()"
      ],
      "execution_count": 0,
      "outputs": [
        {
          "output_type": "stream",
          "text": [
            "price\n",
            "maint\n",
            "doors\n",
            "numPeople\n",
            "cargoSpace\n",
            "safteyMeasure\n",
            "acceptable\n"
          ],
          "name": "stdout"
        },
        {
          "output_type": "execute_result",
          "data": {
            "text/html": [
              "<div>\n",
              "<style scoped>\n",
              "    .dataframe tbody tr th:only-of-type {\n",
              "        vertical-align: middle;\n",
              "    }\n",
              "\n",
              "    .dataframe tbody tr th {\n",
              "        vertical-align: top;\n",
              "    }\n",
              "\n",
              "    .dataframe thead th {\n",
              "        text-align: right;\n",
              "    }\n",
              "</style>\n",
              "<table border=\"1\" class=\"dataframe\">\n",
              "  <thead>\n",
              "    <tr style=\"text-align: right;\">\n",
              "      <th></th>\n",
              "      <th>price</th>\n",
              "      <th>maint</th>\n",
              "      <th>doors</th>\n",
              "      <th>numPeople</th>\n",
              "      <th>cargoSpace</th>\n",
              "      <th>safteyMeasure</th>\n",
              "      <th>acceptable</th>\n",
              "      <th>price_cat</th>\n",
              "      <th>maint_cat</th>\n",
              "      <th>doors_cat</th>\n",
              "      <th>numPeople_cat</th>\n",
              "      <th>cargoSpace_cat</th>\n",
              "      <th>safteyMeasure_cat</th>\n",
              "      <th>acceptable_cat</th>\n",
              "    </tr>\n",
              "  </thead>\n",
              "  <tbody>\n",
              "    <tr>\n",
              "      <th>0</th>\n",
              "      <td>vhigh</td>\n",
              "      <td>vhigh</td>\n",
              "      <td>2</td>\n",
              "      <td>2</td>\n",
              "      <td>small</td>\n",
              "      <td>low</td>\n",
              "      <td>unacc</td>\n",
              "      <td>3</td>\n",
              "      <td>3</td>\n",
              "      <td>0</td>\n",
              "      <td>0</td>\n",
              "      <td>2</td>\n",
              "      <td>1</td>\n",
              "      <td>2</td>\n",
              "    </tr>\n",
              "    <tr>\n",
              "      <th>1</th>\n",
              "      <td>vhigh</td>\n",
              "      <td>vhigh</td>\n",
              "      <td>2</td>\n",
              "      <td>2</td>\n",
              "      <td>small</td>\n",
              "      <td>med</td>\n",
              "      <td>unacc</td>\n",
              "      <td>3</td>\n",
              "      <td>3</td>\n",
              "      <td>0</td>\n",
              "      <td>0</td>\n",
              "      <td>2</td>\n",
              "      <td>2</td>\n",
              "      <td>2</td>\n",
              "    </tr>\n",
              "    <tr>\n",
              "      <th>2</th>\n",
              "      <td>vhigh</td>\n",
              "      <td>vhigh</td>\n",
              "      <td>2</td>\n",
              "      <td>2</td>\n",
              "      <td>small</td>\n",
              "      <td>high</td>\n",
              "      <td>unacc</td>\n",
              "      <td>3</td>\n",
              "      <td>3</td>\n",
              "      <td>0</td>\n",
              "      <td>0</td>\n",
              "      <td>2</td>\n",
              "      <td>0</td>\n",
              "      <td>2</td>\n",
              "    </tr>\n",
              "    <tr>\n",
              "      <th>3</th>\n",
              "      <td>vhigh</td>\n",
              "      <td>vhigh</td>\n",
              "      <td>2</td>\n",
              "      <td>2</td>\n",
              "      <td>med</td>\n",
              "      <td>low</td>\n",
              "      <td>unacc</td>\n",
              "      <td>3</td>\n",
              "      <td>3</td>\n",
              "      <td>0</td>\n",
              "      <td>0</td>\n",
              "      <td>1</td>\n",
              "      <td>1</td>\n",
              "      <td>2</td>\n",
              "    </tr>\n",
              "    <tr>\n",
              "      <th>4</th>\n",
              "      <td>vhigh</td>\n",
              "      <td>vhigh</td>\n",
              "      <td>2</td>\n",
              "      <td>2</td>\n",
              "      <td>med</td>\n",
              "      <td>med</td>\n",
              "      <td>unacc</td>\n",
              "      <td>3</td>\n",
              "      <td>3</td>\n",
              "      <td>0</td>\n",
              "      <td>0</td>\n",
              "      <td>1</td>\n",
              "      <td>2</td>\n",
              "      <td>2</td>\n",
              "    </tr>\n",
              "  </tbody>\n",
              "</table>\n",
              "</div>"
            ],
            "text/plain": [
              "   price  maint doors  ... cargoSpace_cat safteyMeasure_cat acceptable_cat\n",
              "0  vhigh  vhigh     2  ...              2                 1              2\n",
              "1  vhigh  vhigh     2  ...              2                 2              2\n",
              "2  vhigh  vhigh     2  ...              2                 0              2\n",
              "3  vhigh  vhigh     2  ...              1                 1              2\n",
              "4  vhigh  vhigh     2  ...              1                 2              2\n",
              "\n",
              "[5 rows x 14 columns]"
            ]
          },
          "metadata": {
            "tags": []
          },
          "execution_count": 213
        }
      ]
    },
    {
      "cell_type": "code",
      "metadata": {
        "id": "Zb96n0gsPpE_",
        "colab_type": "code",
        "colab": {}
      },
      "source": [
        "from sklearn import preprocessing\n",
        "from sklearn.ensemble import RandomForestClassifier\n",
        "\n",
        "## Unnormalized data\n",
        "features = carData[['price_cat', 'maint_cat', 'doors_cat', 'numPeople_cat', 'cargoSpace_cat', 'safteyMeasure_cat']]\n",
        "targets = carData['acceptable']\n",
        "\n",
        "train_data, test_data, train_targets, test_targets = train_test_split(features, targets, test_size=.3)\n",
        "\n",
        "## normalized Data\n",
        "norm_train_data, norm_test_data, norm_train_targets, norm_test_targets = train_test_split(preprocessing.normalize(features, norm='l1'), targets, test_size=.3)\n",
        "\n",
        "test_targets = test_targets.to_numpy()\n",
        "norm_test_targets = norm_test_targets.to_numpy()\n"
      ],
      "execution_count": 0,
      "outputs": []
    },
    {
      "cell_type": "code",
      "metadata": {
        "id": "N_X9M279Qe9H",
        "colab_type": "code",
        "colab": {}
      },
      "source": [
        "## Unnormalized Data\n",
        "carTree = tree.DecisionTreeClassifier()\n",
        "carTree.fit(train_data, train_targets)\n",
        "predictions = carTree.predict(test_data)\n",
        "\n",
        "\n",
        "\n",
        "## Normalized Data\n",
        "carTreeNorm = RandomForestClassifier(n_estimators=100)\n",
        "carTreeNorm.fit(train_data, train_targets)\n",
        "normPredictions = carTreeNorm.predict(test_data)\n",
        "\n"
      ],
      "execution_count": 0,
      "outputs": []
    },
    {
      "cell_type": "code",
      "metadata": {
        "id": "fSBzcItzRa9x",
        "colab_type": "code",
        "outputId": "b1a93634-33c0-4e41-fc73-05adcda11577",
        "colab": {
          "base_uri": "https://localhost:8080/",
          "height": 51
        }
      },
      "source": [
        "\n",
        "print(\"unNormalized accuracy: \" + str(carTree.score(test_data, test_targets) * 100))\n",
        "print(\"Random forest: \" + str(carTreeNorm.score(test_data, test_targets) * 100))\n",
        "\n"
      ],
      "execution_count": 0,
      "outputs": [
        {
          "output_type": "stream",
          "text": [
            "unNormalized accuracy: 97.6878612716763\n",
            "Random forest: 96.72447013487476\n"
          ],
          "name": "stdout"
        }
      ]
    },
    {
      "cell_type": "code",
      "metadata": {
        "id": "N1IxrOVLg0Nf",
        "colab_type": "code",
        "colab": {}
      },
      "source": [
        ""
      ],
      "execution_count": 0,
      "outputs": []
    }
  ]
}